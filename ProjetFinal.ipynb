{
 "cells": [
  {
   "attachments": {},
   "cell_type": "markdown",
   "id": "ba6abc5e",
   "metadata": {},
   "source": [
    "# Analyse Musique"
   ]
  },
  {
   "attachments": {},
   "cell_type": "markdown",
   "id": "7894963d",
   "metadata": {},
   "source": [
    "### Importation des bibliothèques et définition de variables générales"
   ]
  },
  {
   "cell_type": "code",
   "execution_count": 53,
   "id": "80cc4464",
   "metadata": {},
   "outputs": [],
   "source": [
    "import vamp\n",
    "import librosa\n",
    "import os\n",
    "from sklearn.model_selection import train_test_split\n",
    "from sklearn.neighbors import KNeighborsClassifier\n",
    "from sklearn.metrics import accuracy_score\n",
    "import numpy as np\n",
    "from math import ceil\n",
    "\n",
    "\n",
    "notes = [\"C\", \"C#\", \"D\", \"D#\", \"E\", \"F\", \"F#\", \"G\", \"G#\", \"A\", \"A#\", \"B\"]\n",
    "accords = [f\"{note} Major\" for note in notes] + [f\"{note} Minor\" for note in notes] + [\"N\"] # Tous les accords Majeurs et Mineurs + \"N\" = pas d'accord qui joue\n",
    "std_notation = { # Notation à utiliser pendant l'entrainement\n",
    "    \"Db\" : \"C#\",\n",
    "    \"Eb\" : \"D#\",\n",
    "    \"Gb\" : \"F#\",\n",
    "    \"Ab\" : \"G#\",\n",
    "    \"Bb\" : \"A#\",\n",
    "    \"Fb\" : \"E\",\n",
    "    \"Cb\" : \"B\"\n",
    "}\n",
    "\n",
    "gamme_maj = [1, 0, 0, 1, 1, 0, \"dim\"] # 1 signifie un accord Majeur, un 0 un accord Mineur, \"dim\" un accord diminué (sera ignoré car pas un accord dans la base de données)"
   ]
  },
  {
   "cell_type": "code",
   "execution_count": 82,
   "id": "665573df",
   "metadata": {},
   "outputs": [
    {
     "name": "stdout",
     "output_type": "stream",
     "text": [
      "['C Major', 'C# Major', 'D Major', 'D# Major', 'E Major', 'F Major', 'F# Major', 'G Major', 'G# Major', 'A Major', 'A# Major', 'B Major', 'C Minor', 'C# Minor', 'D Minor', 'D# Minor', 'E Minor', 'F Minor', 'F# Minor', 'G Minor', 'G# Minor', 'A Minor', 'A# Minor', 'B Minor', 'N']\n"
     ]
    }
   ],
   "source": [
    "print(accords)"
   ]
  },
  {
   "attachments": {},
   "cell_type": "markdown",
   "id": "8bcaa231",
   "metadata": {},
   "source": [
    "### Application de l'algorithme de Krumhansl-Schmuckler pour déterminer la clé d'une chanson"
   ]
  },
  {
   "cell_type": "code",
   "execution_count": 89,
   "id": "30176f4a",
   "metadata": {},
   "outputs": [],
   "source": [
    "# SOURCE D'AIDE: https://github.com/jackmcarthur/musical-key-finder/\n",
    "\n",
    "profile_maj = [6.35, 2.23, 3.48, 2.33, 4.38, 4.09, 2.52, 5.19, 2.39, 3.66, 2.29, 2.88]\n",
    "profile_min = [6.33, 2.68, 3.52, 5.38, 2.60, 3.53, 2.54, 4.75, 3.98, 2.69, 3.34, 3.17]\n",
    "def trouve_cle(audio):\n",
    "    assert librosa.get_duration(y=audio) > 0, \"Le fichier peut être corrompu.\" # Un bug qui se produit parfois, car un fichier musique a une longueur 0\n",
    "    chromagram = librosa.feature.chroma_cqt(y=audio)\n",
    "    presence_notes = []\n",
    "    for i in chromagram:\n",
    "        presence_notes.append(np.sum(i))\n",
    "    correlation_maj, correlation_min = [], []\n",
    "    for i in range(12):\n",
    "        cle_test = [presence_notes[(i+j)%12] for j in range(12)]\n",
    "        correlation_maj.append(np.corrcoef(profile_maj, cle_test)[0][1])\n",
    "        correlation_min.append(np.corrcoef(profile_min, cle_test)[0][1])\n",
    "    correlation = correlation_maj + correlation_min\n",
    "    cle = []\n",
    "    for i in range(2):\n",
    "        base_cle = correlation.index(max(correlation))\n",
    "        cle.append(base_cle)\n",
    "        if base_cle > 11:\n",
    "            base_cle_relatif = (base_cle + 3)%12\n",
    "            cle.append(base_cle_relatif)\n",
    "            correlation[base_cle_relatif] = -50\n",
    "        else:\n",
    "            base_cle_relatif = (base_cle + 9)%12+12\n",
    "            cle.append(base_cle_relatif)\n",
    "            correlation[base_cle_relatif] = -50\n",
    "        cle.append(correlation[base_cle])\n",
    "        correlation[base_cle] = -50\n",
    "    return cle"
   ]
  },
  {
   "attachments": {},
   "cell_type": "markdown",
   "id": "1521a817",
   "metadata": {},
   "source": [
    "### Création des fichiers de données pour le model des K Plus Proches Voisins pour la détermination des accords. On utilise cette base de données https://ddmal.music.mcgill.ca/research/The_McGill_Billboard_Project_(Chord_Analysis_Dataset)/"
   ]
  },
  {
   "cell_type": "code",
   "execution_count": null,
   "id": "b481c861",
   "metadata": {},
   "outputs": [],
   "source": [
    "def get_data():\n",
    "    X, Y = [], []\n",
    "    for i in os.listdir(\"/Chord recognition/mcgill-chords\"):\n",
    "        if i != \".DS_Store\":\n",
    "            print(i)\n",
    "            with open(\"/Chord recognition/mcgill-chords/\" + i + \"/majmin.lab\") as chords:\n",
    "                chords = [j.strip(\"\\n\").split(\"\\t\") for j in chords.readlines()[:-1:]]\n",
    "                \n",
    "                # Fusionner les listes ayant les même accords\n",
    "                merged_chords = []\n",
    "                prev_chord = None\n",
    "                for p in range(len(chords)-1):\n",
    "                    if chords[p][2] != prev_chord:\n",
    "                        k = 1\n",
    "                        try:\n",
    "                            while chords[p][2] == chords[p+k][2]:\n",
    "                                k += 1\n",
    "                        except IndexError:\n",
    "                            pass\n",
    "                        merged_chords.append((chords[p][0], chords[p+k-1][1], chords[p][2]))\n",
    "                        prev_chord = chords[p][2]\n",
    "                    \n",
    "                with open(\"/Chord recognition/mcgill-chroma/\" + i + \"/bothchroma.csv\") as chroma:\n",
    "                    chroma = [j.strip(\"\\n\").strip('\"/tmp/audio.wav\"').split(\",\")[1:] for j in chroma.readlines()]\n",
    "                    for n in merged_chords:\n",
    "                        limites_temps = (float(n[0]), float(n[1]))\n",
    "                        limites_indices = [-1, -1]\n",
    "                        k = 0\n",
    "                        while float(chroma[k][0]) < limites_temps[0]:\n",
    "                            k += 1\n",
    "                        if k != 0:\n",
    "                            k += 1\n",
    "                        limites_indices[0] = k\n",
    "                        \n",
    "                        k = 0\n",
    "                        while k < len(chroma) and float(chroma[k][0]) < limites_temps[1]:\n",
    "                            k += 1\n",
    "                        if k == len(chroma):\n",
    "                            k -= 1\n",
    "                        limites_indices[1] = k\n",
    "                        \n",
    "                        segment_chromas = np.array([np.array(chroma[l][1:]).astype(np.float64) for l in range(limites_indices[0], limites_indices[1]+1)])\n",
    "                        average_chroma = np.mean(segment_chromas, axis=0)\n",
    "                        \n",
    "                        mode = None\n",
    "                        mode_accord = None\n",
    "                        if n[2][0] == \"X\":\n",
    "                            continue\n",
    "                        elif len(n[2]) == 1:\n",
    "                            note = \"N\"\n",
    "                        else:\n",
    "                            note, mode = n[2].split(\":\")\n",
    "                        \n",
    "                        if note not in notes and note != 'N':\n",
    "                            note = std_notation[note]\n",
    "                        if mode == \"maj\":\n",
    "                            label = accords.index(note + \" Major\")\n",
    "                        elif mode == \"min\":\n",
    "                            label = accords.index(note + \" Minor\")\n",
    "                        else:\n",
    "                            label = accords.index(note)\n",
    "                        if average_chroma.shape != (24,):\n",
    "                            print(\"ERREUR\")\n",
    "                            continue\n",
    "                        X.append(average_chroma)\n",
    "                        Y.append(label)\n",
    "    np.save(\"x_train\", np.array(X))\n",
    "    np.save(\"y_train\", np.array(Y))\n",
    "get_data()"
   ]
  },
  {
   "attachments": {},
   "cell_type": "markdown",
   "id": "d1255cab",
   "metadata": {},
   "source": [
    "### Fonction pour obtenir le model"
   ]
  },
  {
   "cell_type": "code",
   "execution_count": 56,
   "id": "00baf114",
   "metadata": {},
   "outputs": [],
   "source": [
    "def LoadModel(k_voisins=1):\n",
    "    X = np.load(\"x_train.npy\")\n",
    "    Y = np.load(\"y_train.npy\")\n",
    "    X_train, X_test, y_train, y_test = train_test_split(X, Y, test_size=0.2)\n",
    "    knn = KNeighborsClassifier(n_neighbors=k_voisins)\n",
    "    knn.fit(X_train, y_train)\n",
    "\n",
    "    y_pred = knn.predict(X_test)\n",
    "    accuracy = accuracy_score(y_test, y_pred)\n",
    "    return knn, accuracy"
   ]
  },
  {
   "attachments": {},
   "cell_type": "markdown",
   "id": "a0f0ea2b",
   "metadata": {},
   "source": [
    "### On met k_voisins à 1 par défaut car, selon le script suivant, cela nous donne la plus grande précision"
   ]
  },
  {
   "cell_type": "code",
   "execution_count": null,
   "id": "61d1937c",
   "metadata": {},
   "outputs": [],
   "source": [
    "def trouveMeilleurK():\n",
    "    precisions = []\n",
    "    for i in range(1, 31):\n",
    "        precisions.append(LoadModel(i)[1])\n",
    "    print(f\"{precisions.index(max(precisions)) + 1} --> {max(precisions)}\")\n",
    "\n",
    "trouveMeilleurK()"
   ]
  },
  {
   "attachments": {},
   "cell_type": "markdown",
   "id": "217e9964",
   "metadata": {},
   "source": [
    "### Création de la fonction pour déterminer les accords"
   ]
  },
  {
   "cell_type": "code",
   "execution_count": 95,
   "id": "ef856834",
   "metadata": {},
   "outputs": [],
   "source": [
    "def trouve_accords(audio, sr, knn, diatonique=False, cle_maj=None):\n",
    "    tempo, beats = librosa.beat.beat_track(y=audio, sr=sr)\n",
    "    beats_time = librosa.frames_to_time(beats, sr=sr)\n",
    "    beats_samples = librosa.frames_to_samples(beats)\n",
    "    chromas = []\n",
    "    temps_accord = []\n",
    "    hop = ceil(tempo/40)\n",
    "    for i in range(0, len(beats)-hop, hop):\n",
    "        y = audio[beats_samples[i]:beats_samples[i+hop]+1]\n",
    "        temps_accord.append([float(beats_time[i]), float(beats_time[i+hop])])\n",
    "        chroma = vamp.collect(y, sr, \"nnls-chroma:nnls-chroma\", output=\"bothchroma\", parameters={\"rollon\":0.01})[\"matrix\"][1]\n",
    "        average_chroma = np.mean(chroma, axis=0)\n",
    "        chromas.append(average_chroma)\n",
    "    index_accords = knn.predict(chromas)\n",
    "    for i in range(len(index_accords)):\n",
    "        temps_accord[i].append(int(index_accords[i]))\n",
    "    \n",
    "    if diatonique and cle_maj != None:\n",
    "        index_base = cle_maj\n",
    "        notes_cle = [index_base, (index_base + 2)%12, (index_base + 4)%12, (index_base + 5)%12,\n",
    "                     (index_base + 7)%12, (index_base + 9)%12, (index_base + 11)%12]\n",
    "        for i in range(len(temps_accord)):\n",
    "            if (temps_accord[i][2]%12 not in notes_cle) or (gamme_maj[notes_cle.index(temps_accord[i][2]%12)] == \"dim\") or (temps_accord[i][2] > 11 and gamme_maj[notes_cle.index(temps_accord[i][2]%12)] == 1) or (temps_accord[i][2] < 12 and gamme_maj[notes_cle.index(temps_accord[i][2]%12)] == 0):\n",
    "                if temps_accord[0] == temps_accord[i]:\n",
    "                    temps_accord.pop(0)\n",
    "                else:\n",
    "                    temps_accord[i][2] = temps_accord[i-1][2]\n",
    "                \n",
    "    return temps_accord"
   ]
  }
 ],
 "metadata": {
  "kernelspec": {
   "display_name": "Python 3 (ipykernel)",
   "language": "python",
   "name": "python3"
  },
  "language_info": {
   "codemirror_mode": {
    "name": "ipython",
    "version": 3
   },
   "file_extension": ".py",
   "mimetype": "text/x-python",
   "name": "python",
   "nbconvert_exporter": "python",
   "pygments_lexer": "ipython3",
   "version": "3.10.6"
  }
 },
 "nbformat": 4,
 "nbformat_minor": 5
}
